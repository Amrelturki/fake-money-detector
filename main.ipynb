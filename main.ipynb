{
 "cells": [
  {
   "cell_type": "markdown",
   "id": "caed4bc1",
   "metadata": {},
   "source": [
    "Import Libraries & Load Model"
   ]
  },
  {
   "cell_type": "code",
   "execution_count": 53,
   "id": "57fa9442",
   "metadata": {},
   "outputs": [
    {
     "name": "stdout",
     "output_type": "stream",
     "text": [
      "Loaded model.joblib\n"
     ]
    }
   ],
   "source": [
    "import cv2\n",
    "import numpy as np\n",
    "import joblib\n",
    "from skimage.color import rgb2gray\n",
    "from skimage import io\n",
    "from skimage.measure import shannon_entropy\n",
    "import matplotlib.pyplot as plt\n",
    "# Load the trained Random Forest model\n",
    "model = joblib.load('model.joblib')\n",
    "print(\"Loaded model.joblib\")\n"
   ]
  },
  {
   "cell_type": "markdown",
   "id": "8c7c5d1d",
   "metadata": {},
   "source": [
    "Visualize Original vs Sobel‐Processed Image"
   ]
  },
  {
   "cell_type": "markdown",
   "id": "e1687435",
   "metadata": {},
   "source": [
    " Define Feature Extraction:"
   ]
  },
  {
   "cell_type": "code",
   "execution_count": 54,
   "id": "bf42072d",
   "metadata": {},
   "outputs": [],
   "source": [
    "def extract_sobel_features(image_path):\n",
    "    \"\"\"\n",
    "    Load an image from disk, convert to grayscale,\n",
    "    apply Sobel edge detection, then compute\n",
    "    variance, skewness, kurtosis, and entropy.\n",
    "    Returns a 1×4 feature list.\n",
    "    \"\"\"\n",
    "    # 1. Read and grayscale\n",
    "    img = io.imread(image_path)\n",
    "    if img.ndim == 3:\n",
    "        img = rgb2gray(img)\n",
    "    # 2. Resize to 400×400 (or your training size)\n",
    "    img = cv2.resize(img, (400, 400))\n",
    "    # 3. Sobel in X and Y\n",
    "    sobel_x = cv2.Sobel(img, cv2.CV_64F, 1, 0, ksize=3)\n",
    "    sobel_y = cv2.Sobel(img, cv2.CV_64F, 0, 1, ksize=3)\n",
    "    grad = np.hypot(sobel_x, sobel_y)\n",
    "    # 4. Compute statistical features\n",
    "    var   = np.var(grad)\n",
    "    skew  = np.mean(((grad - grad.mean())/grad.std())**3)\n",
    "    kurt  = np.mean(((grad - grad.mean())/grad.std())**4) - 3\n",
    "    ent   = shannon_entropy(grad)\n",
    "    return np.array([[var, skew, kurt, ent]])\n"
   ]
  },
  {
   "cell_type": "markdown",
   "id": "5f24624a",
   "metadata": {},
   "source": [
    "Predict Function"
   ]
  },
  {
   "cell_type": "code",
   "execution_count": 55,
   "id": "4845df19",
   "metadata": {},
   "outputs": [],
   "source": [
    "def predict_banknote(image_path):\n",
    "    \"\"\"\n",
    "    Given a file path, extract Sobel features,\n",
    "    apply the loaded model, and return a string.\n",
    "    \"\"\"\n",
    "    features = extract_sobel_features(image_path)\n",
    "    label = model.predict(features)[0]\n",
    "    return \"FAKE banknote\" if label==1 else \"REAL banknote\"\n"
   ]
  },
  {
   "cell_type": "markdown",
   "id": "bf4f5c68",
   "metadata": {},
   "source": [
    "Run Prediction on Your Image"
   ]
  },
  {
   "cell_type": "code",
   "execution_count": 56,
   "id": "ed09120e",
   "metadata": {},
   "outputs": [
    {
     "name": "stdout",
     "output_type": "stream",
     "text": [
      "Prediction: FAKE banknote\n"
     ]
    }
   ],
   "source": [
    "# Example: prompt for path and predict\n",
    "img_path = r\"D:\\Fake money Detective\\images.jpg\"\n",
    "result = predict_banknote(img_path)\n",
    "print(\"Prediction:\", result)"
   ]
  }
 ],
 "metadata": {
  "kernelspec": {
   "display_name": ".venv",
   "language": "python",
   "name": "python3"
  },
  "language_info": {
   "codemirror_mode": {
    "name": "ipython",
    "version": 3
   },
   "file_extension": ".py",
   "mimetype": "text/x-python",
   "name": "python",
   "nbconvert_exporter": "python",
   "pygments_lexer": "ipython3",
   "version": "3.13.2"
  }
 },
 "nbformat": 4,
 "nbformat_minor": 5
}
